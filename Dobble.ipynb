{
 "cells": [
  {
   "cell_type": "code",
   "execution_count": 122,
   "metadata": {
    "collapsed": true
   },
   "outputs": [],
   "source": [
    "import itertools\n",
    "import string"
   ]
  },
  {
   "cell_type": "code",
   "execution_count": 171,
   "metadata": {},
   "outputs": [],
   "source": [
    "F = [0, 1, 2, 3, 4, 5, 6]\n",
    "letters = string.printable\n",
    "# print letters"
   ]
  },
  {
   "cell_type": "code",
   "execution_count": 172,
   "metadata": {},
   "outputs": [
    {
     "name": "stdout",
     "output_type": "stream",
     "text": [
      "{1: 1, 2: 4, 3: 5, 4: 2, 5: 3, 6: 6}\n"
     ]
    }
   ],
   "source": [
    "def reciprocal(x):\n",
    "    return reciprocal.table[x]\n",
    "\n",
    "reciprocal.table = { i : j for i,j in itertools.product(F,F) if (i * j) % len(F) == 1 }\n",
    "print reciprocal.table\n",
    "\n",
    "if (len(reciprocal.table) < (len(F) - 1)):\n",
    "    print \"There are elements with no reciprocal...\"\n",
    "\n",
    "\n",
    "def multiply(k, x):\n",
    "    return tuple([k * i % len(F) for i in x])\n",
    "\n",
    "\n",
    "def lmod(x):\n",
    "    return multiply(1, x)\n",
    "\n",
    "\n",
    "def add(x, y):\n",
    "    return tuple([(i + j) % len(F) for i,j in zip(x,y)])"
   ]
  },
  {
   "cell_type": "code",
   "execution_count": 173,
   "metadata": {},
   "outputs": [
    {
     "name": "stdout",
     "output_type": "stream",
     "text": [
      "(5, 3, 1)\n",
      "(4, 1, 0)\n",
      "(1, 0, 0)\n"
     ]
    }
   ],
   "source": [
    "def get_representative_in_P2(x):\n",
    "    \n",
    "    x = lmod(x)\n",
    "    \n",
    "    if (max(x) == 0):\n",
    "        return tuple([0,0,0])\n",
    "    \n",
    "    if x[2] != 0:\n",
    "        k = reciprocal(x[2])\n",
    "    elif x[1] != 0:\n",
    "        k = reciprocal(x[1])\n",
    "    else:\n",
    "        k = reciprocal(x[0])\n",
    "    \n",
    "    return multiply(k, x)\n",
    "    \n",
    "\n",
    "print get_representative_in_P2([1,2,3])\n",
    "print get_representative_in_P2([1,2,0])\n",
    "print get_representative_in_P2([1,0,0])"
   ]
  },
  {
   "cell_type": "code",
   "execution_count": 174,
   "metadata": {},
   "outputs": [],
   "source": [
    "def span(x, y):\n",
    "    points = set()\n",
    "    for m, n in itertools.product(F,F):\n",
    "        if m == n == 0:\n",
    "            continue\n",
    "        p = get_representative_in_P2(add(multiply(m, x), multiply(n, y)))\n",
    "        points.add(p)\n",
    "        \n",
    "    return frozenset(points)\n",
    "\n"
   ]
  },
  {
   "cell_type": "code",
   "execution_count": 175,
   "metadata": {
    "collapsed": true
   },
   "outputs": [],
   "source": [
    "def validate(L):\n",
    "    \n",
    "    expected_size = len(F) ** 2 + len(F) + 1\n",
    "    if len(L) != expected_size:\n",
    "        print \"Unexpected length of L: expected: {}, actual {}\".format(expected_size, len(L))\n",
    "        return False\n",
    "    \n",
    "    for x in L:\n",
    "        expected_size = len(F) + 1\n",
    "        if len(x) != expected_size:\n",
    "            print \"Unexpected length of {}: expected: {}, actual {}\".format(x, expected_size, len(x))\n",
    "            return False\n",
    "        \n",
    "    for x, y in itertools.product(L, L):\n",
    "        if x == y:\n",
    "            continue\n",
    "        if len(x & y) != 1:\n",
    "            print \"Unexpected intersection of {} and {}: expected: {}, actual {}\".format(x, y, 1, len(x & y))\n",
    "            return False\n",
    "    \n",
    "    return True"
   ]
  },
  {
   "cell_type": "code",
   "execution_count": 176,
   "metadata": {},
   "outputs": [
    {
     "name": "stdout",
     "output_type": "stream",
     "text": [
      "57\n",
      "57\n",
      "{'1': (0, 1, 0), '0': (0, 0, 1), '3': (0, 4, 1), '2': (0, 1, 1), '5': (0, 2, 1), '4': (0, 5, 1), '7': (0, 6, 1), '6': (0, 3, 1), '9': (1, 0, 1), '8': (1, 0, 0), 'A': (2, 1, 0), 'C': (4, 2, 1), 'B': (1, 4, 1), 'E': (2, 1, 1), 'D': (5, 6, 1), 'G': (6, 3, 1), 'F': (3, 5, 1), 'I': (1, 5, 1), 'H': (3, 1, 0), 'K': (5, 4, 1), 'J': (4, 6, 1), 'M': (3, 1, 1), 'L': (2, 3, 1), 'O': (6, 1, 0), 'N': (6, 2, 1), 'Q': (4, 3, 1), 'P': (1, 6, 1), 'S': (2, 5, 1), 'R': (5, 2, 1), 'U': (6, 1, 1), 'T': (3, 4, 1), 'a': (4, 0, 1), 'c': (2, 0, 1), 'b': (5, 0, 1), 'e': (6, 0, 1), 'd': (3, 0, 1), 'g': (1, 1, 1), 'f': (1, 1, 0), 'i': (5, 5, 1), 'h': (4, 4, 1), 'k': (3, 3, 1), 'j': (2, 2, 1), 'm': (4, 1, 0), 'l': (6, 6, 1), 'o': (4, 1, 1), 'n': (1, 2, 1), 'q': (2, 4, 1), 'p': (5, 3, 1), 's': (6, 5, 1), 'r': (3, 6, 1), 'u': (1, 3, 1), 't': (5, 1, 0), 'w': (5, 1, 1), 'v': (4, 5, 1), 'y': (3, 2, 1), 'x': (2, 6, 1), 'z': (6, 4, 1)}\n",
      "F --> (3, 5, 1)\n",
      "n --> (1, 2, 1)\n",
      "Q --> (4, 3, 1)\n",
      "3 --> (0, 4, 1)\n",
      "H --> (3, 1, 0)\n",
      "w --> (5, 1, 1)\n",
      "c --> (2, 0, 1)\n",
      "l --> (6, 6, 1)\n"
     ]
    }
   ],
   "source": [
    "def get_P2_points():\n",
    "    points = set()\n",
    "    l2p = {}\n",
    "    p2l = {}\n",
    "    i = 0\n",
    "    for x,y,z in itertools.product(F,F,F):\n",
    "        if x == y == z == 0:\n",
    "            continue\n",
    "        \n",
    "        p = get_representative_in_P2((x,y,z))\n",
    "        if p not in points:\n",
    "            points.add(p)\n",
    "            l2p[letters[i]] = p\n",
    "            p2l[p] = letters[i]\n",
    "            i += 1\n",
    "    \n",
    "    return points, l2p, p2l\n",
    "    \n",
    "P2, l2p, p2l = get_P2_points()\n",
    "print len(P2)\n",
    "print len(F) ** 2 + len(F) + 1\n",
    "\n",
    "print l2p\n",
    "\n",
    "s = span([1, 2, 1], [0, 1, 2])\n",
    "\n",
    "for p in s:\n",
    "    print p2l[p], \"-->\", p"
   ]
  },
  {
   "cell_type": "code",
   "execution_count": 177,
   "metadata": {
    "scrolled": true
   },
   "outputs": [
    {
     "name": "stdout",
     "output_type": "stream",
     "text": [
      "Number of lines 57\n",
      "The lines in P2(F):\n",
      "[ a M j u 3 O D s ]\n",
      "[ r K G c O v 5 g ]\n",
      "[ Q q t d D g N 4 ]\n",
      "[ j m 9 G J w 4 T ]\n",
      "[ F B A E 0 C G D ]\n",
      "[ a b 8 e 0 9 c d ]\n",
      "[ F 2 h x 9 p O N ]\n",
      "[ 2 n e f T v D L ]\n",
      "[ p B j H 7 v d U ]\n",
      "[ h I y m 6 c D U ]\n",
      "[ z H S k o D 5 9 ]\n",
      "[ f 3 x G o I d R ]\n",
      "[ F n Q 3 H w c l ]\n",
      "[ r 8 x J 7 l D P ]\n",
      "[ h z K 8 B 3 T q ]\n",
      "[ b y B 4 l o O L ]\n",
      "[ a p E T I l 5 t ]\n",
      "[ 2 M 8 E w o g U ]\n",
      "[ 2 4 3 0 6 7 1 5 ]\n",
      "[ h w L d A 5 s P ]\n",
      "[ x z y 0 u w t v ]\n",
      "[ p A y 3 e S J g ]\n",
      "[ F K j e 6 o P t ]\n",
      "[ f Q y E K 9 7 s ]\n",
      "[ b 3 E m k v N P ]\n",
      "[ F 8 S i I v s 4 ]\n",
      "[ z e G l 1 s N U ]\n",
      "[ r h e E u H R 4 ]\n",
      "[ a F z m R 7 g L ]\n",
      "[ Q 0 S T O U P R ]\n",
      "[ n b M S G t 7 h ]\n",
      "[ 2 Q A z j b r I ]\n",
      "[ r 3 C 9 i t L U ]\n",
      "[ M 9 R l v q 6 A ]\n",
      "[ n z E i 6 J O d ]\n",
      "[ a f r B w 6 S N ]\n",
      "[ Q M e B x m i 5 ]\n",
      "[ a 2 y H G i q P ]\n",
      "[ p b K w i R D 1 ]\n",
      "[ p f M z C 4 c P ]\n",
      "[ f h j 0 k i l g ]\n",
      "[ 2 K u C S m l d ]\n",
      "[ M K H 0 J I N L ]\n",
      "[ n y 8 C j R 5 N ]\n",
      "[ I e C k w 7 O q ]\n",
      "[ F r M y k T d 1 ]\n",
      "[ A c u i o 7 N T ]\n",
      "[ 2 B k J R c s t ]\n",
      "[ a n A K x k 4 U ]\n",
      "[ f A 8 H m t O 1 ]\n",
      "[ p n r 0 m o q s ]\n",
      "[ b H x C 6 T g s ]\n",
      "[ p Q 8 u 6 G k L ]\n",
      "[ n P B u 9 I 1 g ]\n",
      "[ F f b u J q 5 U ]\n",
      "[ a Q h C J o v 1 ]\n",
      "[ j E x S c 1 L q ]\n",
      "Validating each two lines have 1 point in common: True\n"
     ]
    }
   ],
   "source": [
    "def get_P2_lines():\n",
    "    lines = set()\n",
    "    P2, l2p, p2l = get_P2_points()\n",
    "    for x, y in itertools.product(P2, P2):\n",
    "        s = span(x, y)\n",
    "        \n",
    "        # linear dependent\n",
    "        if (0,0,0) in s:\n",
    "            continue\n",
    "        \n",
    "        lines.add(s)\n",
    "        \n",
    "    return lines\n",
    "\n",
    "L = get_P2_lines()\n",
    "\n",
    "print \"Number of lines {}\".format(len(L))\n",
    "\n",
    "print \"The lines in P2(F):\"\n",
    "for line in L:\n",
    "    print \"[\",\n",
    "    for p in line:\n",
    "        print p2l[p],\n",
    "    print \"]\"\n",
    "    \n",
    "print \"Validating each two lines have 1 point in common: {}\".format(validate(L))\n",
    "    "
   ]
  },
  {
   "cell_type": "code",
   "execution_count": null,
   "metadata": {},
   "outputs": [],
   "source": []
  },
  {
   "cell_type": "code",
   "execution_count": null,
   "metadata": {
    "collapsed": true
   },
   "outputs": [],
   "source": []
  },
  {
   "cell_type": "code",
   "execution_count": null,
   "metadata": {
    "collapsed": true
   },
   "outputs": [],
   "source": []
  }
 ],
 "metadata": {
  "kernelspec": {
   "display_name": "Python 2",
   "language": "python",
   "name": "python2"
  },
  "language_info": {
   "codemirror_mode": {
    "name": "ipython",
    "version": 2
   },
   "file_extension": ".py",
   "mimetype": "text/x-python",
   "name": "python",
   "nbconvert_exporter": "python",
   "pygments_lexer": "ipython2",
   "version": "2.7.14"
  }
 },
 "nbformat": 4,
 "nbformat_minor": 2
}
