{
 "cells": [
  {
   "cell_type": "code",
   "execution_count": 323,
   "metadata": {
    "collapsed": true
   },
   "outputs": [],
   "source": [
    "import itertools\n",
    "import string\n",
    "import collections\n",
    "import random\n"
   ]
  },
  {
   "cell_type": "code",
   "execution_count": 368,
   "metadata": {},
   "outputs": [
    {
     "name": "stdout",
     "output_type": "stream",
     "text": [
      "😀 😁 😂 😃 😄 😅 😆 😇 😈 😉 😊 😋 😌 😍 😎 😏 😐 😑 😒 😓 😔 😕 😖 😗 😘 😙 😚 😛 😜 😝 😞 😟 😠 😡 😢 😤 😥 😦 😧 😨 😩 😪 😫 😬 😭 😮 😯 😰 😱 😲 😳 😴 😵 😶 😷 😸 😹 😺 😻 😼 😽 😾 😿 🙀 🙁 🙂 🙃 🙄 🙅 🙆 🙇 🙈 🙉 🙊 🙋 🙌 🙍 🙎 🙏 ɐ ɑ ɒ ɓ ɔ ɕ ɖ ɗ ɘ ə ɚ ɛ ɜ ɝ ɞ ɟ ɠ ɡ ɢ ɣ ɤ ɥ ɦ ɧ ɨ ɩ ɪ ɫ ɬ ɭ ɮ ɯ ɰ ɱ ɲ ɳ ɴ ɵ ɶ ɷ ɸ ɹ ɺ ɻ ɼ ɽ ɾ ɿ ʀ ʁ ʂ ʃ ʄ ʅ ʆ ʇ ʈ ʉ ʊ ʋ ʌ ʍ ʎ ʏ ʐ ʑ ʒ ʓ ʔ ʕ ʖ ʗ ʘ ʙ ʚ ʛ ʜ ʝ ʞ ʟ ʠ ʡ ʢ ʣ ʤ ʥ ʦ ʧ ʨ ʩ ʪ ʫ ʬ ʭ ʮ ʯ Ⲁ ⲁ Ⲃ ⲃ Ⲅ ⲅ Ⲇ ⲇ Ⲉ ⲉ Ⲋ ⲋ Ⲍ ⲍ Ⲏ ⲏ Ⲑ ⲑ Ⲓ ⲓ Ⲕ ⲕ Ⲗ ⲗ Ⲙ ⲙ Ⲛ ⲛ Ⲝ ⲝ Ⲟ ⲟ Ⲡ ⲡ Ⲣ ⲣ Ⲥ ⲥ Ⲧ ⲧ Ⲩ ⲩ Ⲫ ⲫ Ⲭ ⲭ Ⲯ ⲯ Ⲱ ⲱ Ⲳ ⲳ Ⲵ ⲵ Ⲷ ⲷ Ⲹ ⲹ Ⲻ ⲻ Ⲽ ⲽ Ⲿ ⲿ Ⳁ ⳁ Ⳃ ⳃ Ⳅ ⳅ Ⳇ ⳇ Ⳉ ⳉ Ⳋ ⳋ Ⳍ ⳍ Ⳏ ⳏ Ⳑ ⳑ Ⳓ ⳓ Ⳕ ⳕ Ⳗ ⳗ Ⳙ ⳙ Ⳛ ⳛ Ⳝ ⳝ Ⳟ ⳟ Ⳡ ⳡ Ⳣ ⳣ ⳤ ⳥ ⳦ ⳧ ⳨ ⳩ ⳪ Ⳬ ⳬ Ⳮ ⳮ ⳯ ⳰ ⳱ Ⳳ ⳳ ① ② ③ ④ ⑤ ⑥ ⑦ ⑧ ⑨ ⑩ ⑪ ⑫ ⑬ ⑭ ⑮ ⑯ ⑰ ⑱ ⑲ ⑳ ⑴ ⑵ ⑶ ⑷ ⑸ ⑹ ⑺ ⑻ ⑼ ⑽ ⑾ ⑿ ⒀ ⒁ ⒂ ⒃ ⒄ ⒅ ⒆ ⒇ ⒈ ⒉ ⒊ ⒋ ⒌ ⒍ ⒎ ⒏ ⒐ ⒑ ⒒ ⒓ ⒔ ⒕ ⒖ ⒗ ⒘ ⒙ ⒚ ⒛ ⒜ ⒝ ⒞ ⒟ ⒠ ⒡ ⒢ ⒣ ⒤ ⒥ ⒦ ⒧ ⒨ ⒩ ⒪ ⒫ ⒬ ⒭ ⒮ ⒯ ⒰ ⒱ ⒲ ⒳ ⒴ ⒵ Ⓐ Ⓑ Ⓒ Ⓓ Ⓔ Ⓕ Ⓖ Ⓗ Ⓘ Ⓙ Ⓚ Ⓛ Ⓜ Ⓝ Ⓞ Ⓟ Ⓠ Ⓡ Ⓢ Ⓣ Ⓤ Ⓥ Ⓦ Ⓧ Ⓨ Ⓩ ⓐ ⓑ ⓒ ⓓ ⓔ ⓕ ⓖ ⓗ ⓘ ⓙ ⓚ ⓛ ⓜ ⓝ ⓞ ⓟ ⓠ ⓡ ⓢ ⓣ ⓤ ⓥ ⓦ ⓧ ⓨ ⓩ ⓪ ⓫ ⓬ ⓭ ⓮ ⓯ ⓰ ⓱ ⓲ ⓳ ⓴ ⓵ ⓶ ⓷ ⓸ ⓹ ⓺ ⓻ ⓼ ⓽ ⓾ ⓿ ...\n"
     ]
    }
   ],
   "source": [
    "F = range(0,7)\n",
    "# letters = [\"\".join(x) for x in itertools.combinations(string.letters, 2)]\n",
    "# letters = [\"\".join(x) for x in itertools.combinations(string.letters, 2)]\n",
    "\n",
    "letters = [('\\U{0:08x}'.format(x)).decode('unicode-escape') for x in itertools.chain(range(0x1f600,0x1F623), range(0x1F624, 0x1f650), range(0x250, 0x2b0), range(0x2c80, 0x2cf4), range(0x2460, 0x2500))]\n",
    "\n",
    "for l in letters:\n",
    "    print l,\n",
    "    \n",
    "print \"...\"\n",
    "    "
   ]
  },
  {
   "cell_type": "code",
   "execution_count": 369,
   "metadata": {},
   "outputs": [
    {
     "name": "stdout",
     "output_type": "stream",
     "text": [
      "{1: 1, 2: 4, 3: 5, 4: 2, 5: 3, 6: 6}\n"
     ]
    }
   ],
   "source": [
    "def reciprocal(x):\n",
    "    return reciprocal.table[x]\n",
    "\n",
    "reciprocal.table = { i : j for i,j in itertools.product(F,F) if (i * j) % len(F) == 1 }\n",
    "print reciprocal.table\n",
    "\n",
    "if (len(reciprocal.table) < (len(F) - 1)):\n",
    "    print \"There are elements with no reciprocal...\"\n",
    "\n",
    "\n",
    "def multiply(k, x):\n",
    "    return tuple([k * i % len(F) for i in x])\n",
    "\n",
    "\n",
    "def lmod(x):\n",
    "    return multiply(1, x)\n",
    "\n",
    "\n",
    "def add(x, y):\n",
    "    return tuple([(i + j) % len(F) for i,j in zip(x,y)])"
   ]
  },
  {
   "cell_type": "code",
   "execution_count": 370,
   "metadata": {},
   "outputs": [
    {
     "name": "stdout",
     "output_type": "stream",
     "text": [
      "(5, 3, 1)\n",
      "(4, 1, 0)\n",
      "(1, 0, 0)\n"
     ]
    }
   ],
   "source": [
    "def get_representative_in_P2(x):\n",
    "    \n",
    "    x = lmod(x)\n",
    "    \n",
    "    if (max(x) == 0):\n",
    "        return tuple([0,0,0])\n",
    "    \n",
    "    if x[2] != 0:\n",
    "        k = reciprocal(x[2])\n",
    "    elif x[1] != 0:\n",
    "        k = reciprocal(x[1])\n",
    "    else:\n",
    "        k = reciprocal(x[0])\n",
    "    \n",
    "    return multiply(k, x)\n",
    "    \n",
    "\n",
    "print get_representative_in_P2([1,2,3])\n",
    "print get_representative_in_P2([1,2,0])\n",
    "print get_representative_in_P2([1,0,0])"
   ]
  },
  {
   "cell_type": "code",
   "execution_count": 371,
   "metadata": {
    "collapsed": true
   },
   "outputs": [],
   "source": [
    "def span(x, y):\n",
    "    points = set()\n",
    "    for m, n in itertools.product(F,F):\n",
    "        if m == n == 0:\n",
    "            continue\n",
    "        p = get_representative_in_P2(add(multiply(m, x), multiply(n, y)))\n",
    "        points.add(p)\n",
    "        \n",
    "    return frozenset(points)\n",
    "\n"
   ]
  },
  {
   "cell_type": "code",
   "execution_count": 372,
   "metadata": {
    "collapsed": true
   },
   "outputs": [],
   "source": [
    "def validate(L):\n",
    "    \n",
    "    expected_size = len(F) ** 2 + len(F) + 1\n",
    "    if len(L) != expected_size:\n",
    "        print \"Unexpected length of L: expected: {}, actual {}\".format(expected_size, len(L))\n",
    "        return False\n",
    "    \n",
    "    for x in L:\n",
    "        expected_size = len(F) + 1\n",
    "        if len(x) != expected_size:\n",
    "            print \"Unexpected length of {}: expected: {}, actual {}\".format(x, expected_size, len(x))\n",
    "            return False\n",
    "        \n",
    "    for x, y in itertools.product(L, L):\n",
    "        if x == y:\n",
    "            continue\n",
    "        if len(x & y) != 1:\n",
    "            print \"Unexpected intersection of {} and {}: expected: {}, actual {}\".format(x, y, 1, len(x & y))\n",
    "            return False\n",
    "    \n",
    "    return True"
   ]
  },
  {
   "cell_type": "code",
   "execution_count": 373,
   "metadata": {},
   "outputs": [
    {
     "name": "stdout",
     "output_type": "stream",
     "text": [
      "57\n",
      "57\n",
      "😵 --> (4, 3, 1)\n",
      "😴 --> (1, 6, 1)\n",
      "😷 --> (2, 5, 1)\n",
      "😶 --> (5, 2, 1)\n",
      "😱 --> (3, 1, 1)\n",
      "😰 --> (2, 3, 1)\n",
      "😳 --> (6, 1, 0)\n",
      "😲 --> (6, 2, 1)\n",
      "😹 --> (6, 1, 1)\n",
      "😸 --> (3, 4, 1)\n",
      "😥 --> (2, 1, 0)\n",
      "😤 --> (6, 4, 1)\n",
      "😧 --> (4, 2, 1)\n",
      "😦 --> (1, 4, 1)\n",
      "😡 --> (2, 6, 1)\n",
      "😠 --> (5, 1, 1)\n",
      "😢 --> (3, 2, 1)\n",
      "😭 --> (1, 5, 1)\n",
      "😬 --> (3, 1, 0)\n",
      "😯 --> (5, 4, 1)\n",
      "😮 --> (4, 6, 1)\n",
      "😩 --> (2, 1, 1)\n",
      "😨 --> (5, 6, 1)\n",
      "😫 --> (6, 3, 1)\n",
      "😪 --> (3, 5, 1)\n",
      "😕 --> (6, 6, 1)\n",
      "😔 --> (3, 3, 1)\n",
      "😗 --> (1, 2, 1)\n",
      "😖 --> (4, 1, 0)\n",
      "😑 --> (4, 4, 1)\n",
      "😐 --> (1, 1, 1)\n",
      "😓 --> (2, 2, 1)\n",
      "😒 --> (5, 5, 1)\n",
      "😝 --> (5, 1, 0)\n",
      "😜 --> (6, 5, 1)\n",
      "😟 --> (4, 5, 1)\n",
      "😞 --> (1, 3, 1)\n",
      "😙 --> (5, 3, 1)\n",
      "😘 --> (4, 1, 1)\n",
      "😛 --> (3, 6, 1)\n",
      "😚 --> (2, 4, 1)\n",
      "😅 --> (0, 2, 1)\n",
      "😄 --> (0, 5, 1)\n",
      "😇 --> (0, 6, 1)\n",
      "😆 --> (0, 3, 1)\n",
      "😁 --> (0, 1, 0)\n",
      "😀 --> (0, 0, 1)\n",
      "😃 --> (0, 4, 1)\n",
      "😂 --> (0, 1, 1)\n",
      "😍 --> (3, 0, 1)\n",
      "😌 --> (2, 0, 1)\n",
      "😏 --> (1, 1, 0)\n",
      "😎 --> (6, 0, 1)\n",
      "😉 --> (1, 0, 1)\n",
      "😈 --> (1, 0, 0)\n",
      "😋 --> (5, 0, 1)\n",
      "😊 --> (4, 0, 1)\n"
     ]
    }
   ],
   "source": [
    "def get_P2_points():\n",
    "    points = set()\n",
    "    l2p = {}\n",
    "    p2l = {}\n",
    "    i = 0\n",
    "    for x,y,z in itertools.product(F,F,F):\n",
    "        if x == y == z == 0:\n",
    "            continue\n",
    "        \n",
    "        p = get_representative_in_P2((x,y,z))\n",
    "        if p not in points:\n",
    "            points.add(p)\n",
    "            l2p[letters[i]] = p\n",
    "            p2l[p] = letters[i]\n",
    "            i += 1\n",
    "    \n",
    "    return points, l2p, p2l\n",
    "    \n",
    "P2, l2p, p2l = get_P2_points()\n",
    "print len(P2)\n",
    "print len(F) ** 2 + len(F) + 1\n",
    "\n",
    "for k, v in l2p.iteritems():\n",
    "    print k, '-->', v\n",
    "\n",
    "s = span([1, 2, 1], [0, 1, 2])\n",
    "\n",
    "# for p in s:\n",
    "#     print p2l[p], \"-->\", p"
   ]
  },
  {
   "cell_type": "code",
   "execution_count": 374,
   "metadata": {
    "scrolled": false
   },
   "outputs": [
    {
     "name": "stdout",
     "output_type": "stream",
     "text": [
      "Number of lines 57\n",
      "Validating each two lines have 1 point in common: True\n"
     ]
    }
   ],
   "source": [
    "def get_P2_lines():\n",
    "    lines = set()\n",
    "    P2, l2p, p2l = get_P2_points()\n",
    "    for x, y in itertools.combinations_with_replacement(P2, 2):\n",
    "        s = span(x, y)\n",
    "        \n",
    "        # linear dependent\n",
    "        if (0,0,0) in s:\n",
    "            continue\n",
    "        \n",
    "        lines.add(s)\n",
    "        \n",
    "    return lines\n",
    "\n",
    "\n",
    "L = get_P2_lines()\n",
    "\n",
    "print \"Number of lines {}\".format(len(L))\n",
    "  \n",
    "print \"Validating each two lines have 1 point in common: {}\".format(validate(L))\n",
    "    "
   ]
  },
  {
   "cell_type": "code",
   "execution_count": 375,
   "metadata": {
    "scrolled": false
   },
   "outputs": [
    {
     "name": "stdout",
     "output_type": "stream",
     "text": [
      "The lines in P2(F):\n",
      "\n",
      "0)\t 😊 😱 😓 😞 😃 😳 😨 😜\n",
      "\n",
      "1)\t 😛 😯 😫 😌 😳 😟 😅 😐\n",
      "\n",
      "2)\t 😵 😚 😝 😍 😨 😐 😲 😄\n",
      "\n",
      "3)\t 😓 😖 😉 😫 😮 😠 😄 😸\n",
      "\n",
      "4)\t 😪 😦 😥 😩 😀 😧 😫 😨\n",
      "\n",
      "5)\t 😊 😋 😈 😎 😀 😉 😌 😍\n",
      "\n",
      "6)\t 😪 😂 😑 😡 😉 😙 😳 😲\n",
      "\n",
      "7)\t 😂 😗 😎 😏 😸 😟 😨 😰\n",
      "\n",
      "8)\t 😙 😦 😓 😬 😇 😟 😍 😹\n",
      "\n",
      "9)\t 😑 😭 😢 😖 😆 😌 😨 😹\n",
      "\n",
      "10)\t 😤 😬 😷 😔 😘 😨 😅 😉\n",
      "\n",
      "11)\t 😏 😃 😡 😫 😘 😭 😍 😶\n",
      "\n",
      "12)\t 😪 😗 😵 😃 😬 😠 😌 😕\n",
      "\n",
      "13)\t 😛 😈 😡 😮 😇 😕 😨 😴\n",
      "\n",
      "14)\t 😑 😤 😯 😈 😦 😃 😸 😚\n",
      "\n",
      "15)\t 😋 😢 😦 😄 😕 😘 😳 😰\n",
      "\n",
      "16)\t 😊 😙 😩 😸 😭 😕 😅 😝\n",
      "\n",
      "17)\t 😂 😱 😈 😩 😠 😘 😐 😹\n",
      "\n",
      "18)\t 😂 😄 😃 😀 😆 😇 😁 😅\n",
      "\n",
      "19)\t 😑 😠 😰 😍 😥 😅 😜 😴\n",
      "\n",
      "20)\t 😡 😤 😢 😀 😞 😠 😝 😟\n",
      "\n",
      "21)\t 😙 😥 😢 😃 😎 😷 😮 😐\n",
      "\n",
      "22)\t 😪 😯 😓 😎 😆 😘 😴 😝\n",
      "\n",
      "23)\t 😏 😵 😢 😩 😯 😉 😇 😜\n",
      "\n",
      "24)\t 😋 😃 😩 😖 😔 😟 😲 😴\n",
      "\n",
      "25)\t 😪 😈 😷 😒 😭 😟 😜 😄\n",
      "\n",
      "26)\t 😤 😎 😫 😕 😁 😜 😲 😹\n",
      "\n",
      "27)\t 😛 😑 😎 😩 😞 😬 😶 😄\n",
      "\n",
      "28)\t 😊 😪 😤 😖 😶 😇 😐 😰\n",
      "\n",
      "29)\t 😵 😀 😷 😸 😳 😹 😴 😶\n",
      "\n",
      "30)\t 😗 😋 😱 😷 😫 😝 😇 😑\n",
      "\n",
      "31)\t 😂 😵 😥 😤 😓 😋 😛 😭\n",
      "\n",
      "32)\t 😛 😃 😧 😉 😒 😝 😰 😹\n",
      "\n",
      "33)\t 😱 😉 😶 😕 😟 😚 😆 😥\n",
      "\n",
      "34)\t 😗 😤 😩 😒 😆 😮 😳 😍\n",
      "\n",
      "35)\t 😊 😏 😛 😦 😠 😆 😷 😲\n",
      "\n",
      "36)\t 😵 😱 😎 😦 😡 😖 😒 😅\n",
      "\n",
      "37)\t 😊 😂 😢 😬 😫 😒 😚 😴\n",
      "\n",
      "38)\t 😙 😋 😯 😠 😒 😶 😨 😁\n",
      "\n",
      "39)\t 😙 😏 😱 😤 😧 😄 😌 😴\n",
      "\n",
      "40)\t 😏 😑 😓 😀 😔 😒 😕 😐\n",
      "\n",
      "41)\t 😂 😯 😞 😧 😷 😖 😕 😍\n",
      "\n",
      "42)\t 😱 😯 😬 😀 😮 😭 😲 😰\n",
      "\n",
      "43)\t 😗 😢 😈 😧 😓 😶 😅 😲\n",
      "\n",
      "44)\t 😭 😎 😧 😔 😠 😇 😳 😚\n",
      "\n",
      "45)\t 😪 😛 😱 😢 😔 😸 😍 😁\n",
      "\n",
      "46)\t 😥 😌 😞 😒 😘 😇 😲 😸\n",
      "\n",
      "47)\t 😂 😦 😔 😮 😶 😌 😜 😝\n",
      "\n",
      "48)\t 😊 😗 😥 😯 😡 😔 😄 😹\n",
      "\n",
      "49)\t 😏 😥 😈 😬 😖 😝 😳 😁\n",
      "\n",
      "50)\t 😙 😗 😛 😀 😖 😘 😚 😜\n",
      "\n",
      "51)\t 😋 😬 😡 😧 😆 😸 😐 😜\n",
      "\n",
      "52)\t 😙 😵 😈 😞 😆 😫 😔 😰\n",
      "\n",
      "53)\t 😗 😴 😦 😞 😉 😭 😁 😐\n",
      "\n",
      "54)\t 😪 😏 😋 😞 😮 😚 😅 😹\n",
      "\n",
      "55)\t 😊 😵 😑 😧 😮 😘 😟 😁\n",
      "\n",
      "56)\t 😓 😩 😡 😷 😌 😁 😰 😚\n",
      "\n"
     ]
    }
   ],
   "source": [
    "print \"The lines in P2(F):\\n\"\n",
    "L_as_letters = [\" \".join(([p2l[p] for p in line])) for line in L]\n",
    "\n",
    "for i, line in enumerate(L_as_letters):\n",
    "    s = u\"{})\\t {}\\n\".format(i, line)\n",
    "    print s\n"
   ]
  },
  {
   "cell_type": "code",
   "execution_count": 367,
   "metadata": {},
   "outputs": [
    {
     "name": "stdout",
     "output_type": "stream",
     "text": [
      "😛 😈 😡 ɚ 😇 😕 ɔ ɠ\n",
      "😊 ɖ ɐ 😖 ɢ 😇 😐 ɜ\n"
     ]
    }
   ],
   "source": [
    "print random.choice(L_as_letters)\n",
    "print random.choice(L_as_letters)"
   ]
  },
  {
   "cell_type": "code",
   "execution_count": null,
   "metadata": {
    "collapsed": true
   },
   "outputs": [],
   "source": []
  },
  {
   "cell_type": "code",
   "execution_count": null,
   "metadata": {
    "collapsed": true
   },
   "outputs": [],
   "source": []
  },
  {
   "cell_type": "code",
   "execution_count": null,
   "metadata": {
    "collapsed": true
   },
   "outputs": [],
   "source": []
  }
 ],
 "metadata": {
  "kernelspec": {
   "display_name": "Python 2",
   "language": "python",
   "name": "python2"
  },
  "language_info": {
   "codemirror_mode": {
    "name": "ipython",
    "version": 2
   },
   "file_extension": ".py",
   "mimetype": "text/x-python",
   "name": "python",
   "nbconvert_exporter": "python",
   "pygments_lexer": "ipython2",
   "version": "2.7.14"
  }
 },
 "nbformat": 4,
 "nbformat_minor": 2
}
