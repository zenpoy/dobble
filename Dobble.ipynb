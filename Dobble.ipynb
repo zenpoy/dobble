{
 "cells": [
  {
   "cell_type": "code",
   "execution_count": 122,
   "metadata": {
    "collapsed": true
   },
   "outputs": [],
   "source": [
    "import itertools\n",
    "import string"
   ]
  },
  {
   "cell_type": "code",
   "execution_count": 200,
   "metadata": {},
   "outputs": [],
   "source": [
    "F = [0, 1, 2, 3, 4, 5, 6]\n",
    "letters = [\"\".join(x) for x in itertools.combinations(string.letters, 2)]\n",
    "# print letters\n"
   ]
  },
  {
   "cell_type": "code",
   "execution_count": 201,
   "metadata": {},
   "outputs": [
    {
     "name": "stdout",
     "output_type": "stream",
     "text": [
      "{1: 1, 2: 4, 3: 5, 4: 2, 5: 3, 6: 6}\n"
     ]
    }
   ],
   "source": [
    "def reciprocal(x):\n",
    "    return reciprocal.table[x]\n",
    "\n",
    "reciprocal.table = { i : j for i,j in itertools.product(F,F) if (i * j) % len(F) == 1 }\n",
    "print reciprocal.table\n",
    "\n",
    "if (len(reciprocal.table) < (len(F) - 1)):\n",
    "    print \"There are elements with no reciprocal...\"\n",
    "\n",
    "\n",
    "def multiply(k, x):\n",
    "    return tuple([k * i % len(F) for i in x])\n",
    "\n",
    "\n",
    "def lmod(x):\n",
    "    return multiply(1, x)\n",
    "\n",
    "\n",
    "def add(x, y):\n",
    "    return tuple([(i + j) % len(F) for i,j in zip(x,y)])"
   ]
  },
  {
   "cell_type": "code",
   "execution_count": 202,
   "metadata": {},
   "outputs": [
    {
     "name": "stdout",
     "output_type": "stream",
     "text": [
      "(5, 3, 1)\n",
      "(4, 1, 0)\n",
      "(1, 0, 0)\n"
     ]
    }
   ],
   "source": [
    "def get_representative_in_P2(x):\n",
    "    \n",
    "    x = lmod(x)\n",
    "    \n",
    "    if (max(x) == 0):\n",
    "        return tuple([0,0,0])\n",
    "    \n",
    "    if x[2] != 0:\n",
    "        k = reciprocal(x[2])\n",
    "    elif x[1] != 0:\n",
    "        k = reciprocal(x[1])\n",
    "    else:\n",
    "        k = reciprocal(x[0])\n",
    "    \n",
    "    return multiply(k, x)\n",
    "    \n",
    "\n",
    "print get_representative_in_P2([1,2,3])\n",
    "print get_representative_in_P2([1,2,0])\n",
    "print get_representative_in_P2([1,0,0])"
   ]
  },
  {
   "cell_type": "code",
   "execution_count": 203,
   "metadata": {},
   "outputs": [],
   "source": [
    "def span(x, y):\n",
    "    points = set()\n",
    "    for m, n in itertools.product(F,F):\n",
    "        if m == n == 0:\n",
    "            continue\n",
    "        p = get_representative_in_P2(add(multiply(m, x), multiply(n, y)))\n",
    "        points.add(p)\n",
    "        \n",
    "    return frozenset(points)\n",
    "\n"
   ]
  },
  {
   "cell_type": "code",
   "execution_count": 204,
   "metadata": {
    "collapsed": true
   },
   "outputs": [],
   "source": [
    "def validate(L):\n",
    "    \n",
    "    expected_size = len(F) ** 2 + len(F) + 1\n",
    "    if len(L) != expected_size:\n",
    "        print \"Unexpected length of L: expected: {}, actual {}\".format(expected_size, len(L))\n",
    "        return False\n",
    "    \n",
    "    for x in L:\n",
    "        expected_size = len(F) + 1\n",
    "        if len(x) != expected_size:\n",
    "            print \"Unexpected length of {}: expected: {}, actual {}\".format(x, expected_size, len(x))\n",
    "            return False\n",
    "        \n",
    "    for x, y in itertools.product(L, L):\n",
    "        if x == y:\n",
    "            continue\n",
    "        if len(x & y) != 1:\n",
    "            print \"Unexpected intersection of {} and {}: expected: {}, actual {}\".format(x, y, 1, len(x & y))\n",
    "            return False\n",
    "    \n",
    "    return True"
   ]
  },
  {
   "cell_type": "code",
   "execution_count": 205,
   "metadata": {},
   "outputs": [
    {
     "name": "stdout",
     "output_type": "stream",
     "text": [
      "57\n",
      "57\n",
      "{'ac': (0, 1, 0), 'ab': (0, 0, 1), 'ae': (0, 4, 1), 'ad': (0, 1, 1), 'ag': (0, 2, 1), 'af': (0, 5, 1), 'ai': (0, 6, 1), 'ah': (0, 3, 1), 'ak': (1, 0, 1), 'aj': (1, 0, 0), 'am': (5, 0, 1), 'al': (4, 0, 1), 'ao': (3, 0, 1), 'an': (2, 0, 1), 'aq': (1, 1, 0), 'ap': (6, 0, 1), 'as': (4, 4, 1), 'ar': (1, 1, 1), 'au': (2, 2, 1), 'at': (5, 5, 1), 'aw': (6, 6, 1), 'av': (3, 3, 1), 'ay': (1, 2, 1), 'ax': (4, 1, 0), 'az': (4, 1, 1), 'aA': (5, 3, 1), 'aC': (3, 6, 1), 'aB': (2, 4, 1), 'aE': (5, 1, 0), 'aD': (6, 5, 1), 'aG': (4, 5, 1), 'aF': (1, 3, 1), 'aI': (2, 6, 1), 'aH': (5, 1, 1), 'aK': (6, 4, 1), 'aJ': (3, 2, 1), 'aM': (1, 4, 1), 'aL': (2, 1, 0), 'aO': (5, 6, 1), 'aN': (4, 2, 1), 'aQ': (3, 5, 1), 'aP': (2, 1, 1), 'aS': (3, 1, 0), 'aR': (6, 3, 1), 'aU': (4, 6, 1), 'aT': (1, 5, 1), 'aW': (2, 3, 1), 'aV': (5, 4, 1), 'aY': (6, 2, 1), 'aX': (3, 1, 1), 'aZ': (6, 1, 0), 'bd': (4, 3, 1), 'be': (5, 2, 1), 'bf': (2, 5, 1), 'bg': (3, 4, 1), 'bc': (1, 6, 1), 'bh': (6, 1, 1)}\n",
      "aQ --> (3, 5, 1)\n",
      "ay --> (1, 2, 1)\n",
      "bd --> (4, 3, 1)\n",
      "ae --> (0, 4, 1)\n",
      "aS --> (3, 1, 0)\n",
      "aH --> (5, 1, 1)\n",
      "an --> (2, 0, 1)\n",
      "aw --> (6, 6, 1)\n"
     ]
    }
   ],
   "source": [
    "def get_P2_points():\n",
    "    points = set()\n",
    "    l2p = {}\n",
    "    p2l = {}\n",
    "    i = 0\n",
    "    for x,y,z in itertools.product(F,F,F):\n",
    "        if x == y == z == 0:\n",
    "            continue\n",
    "        \n",
    "        p = get_representative_in_P2((x,y,z))\n",
    "        if p not in points:\n",
    "            points.add(p)\n",
    "            l2p[letters[i]] = p\n",
    "            p2l[p] = letters[i]\n",
    "            i += 1\n",
    "    \n",
    "    return points, l2p, p2l\n",
    "    \n",
    "P2, l2p, p2l = get_P2_points()\n",
    "print len(P2)\n",
    "print len(F) ** 2 + len(F) + 1\n",
    "\n",
    "print l2p\n",
    "\n",
    "s = span([1, 2, 1], [0, 1, 2])\n",
    "\n",
    "for p in s:\n",
    "    print p2l[p], \"-->\", p"
   ]
  },
  {
   "cell_type": "code",
   "execution_count": 206,
   "metadata": {
    "scrolled": false
   },
   "outputs": [
    {
     "name": "stdout",
     "output_type": "stream",
     "text": [
      "Number of lines 57\n",
      "The lines in P2(F):\n",
      "aA,aB,aC,aD,ab,ax,ay,az\n",
      "aA,aE,aP,aT,ag,al,aw,bg\n",
      "aA,aF,aR,aW,ah,aj,av,bd\n",
      "aA,aG,aM,aS,ai,ao,au,bh\n",
      "aA,aH,aO,aV,ac,am,at,be\n",
      "aA,aI,aQ,aY,aZ,ad,ak,as\n",
      "aA,aJ,aL,aU,ae,ap,ar,bf\n",
      "aA,aK,aN,aX,af,an,aq,bc\n",
      "aB,aE,aO,aY,af,ao,ar,bd\n",
      "aB,aF,aQ,aU,ag,am,aq,bh\n",
      "aB,aG,aL,aX,ah,ak,aw,be\n",
      "aB,aH,aN,aT,aZ,ai,ap,av\n",
      "aB,aI,aP,aW,ac,an,au,bf\n",
      "aB,aJ,aR,aS,ad,al,at,bc\n",
      "aB,aK,aM,aV,ae,aj,as,bg\n",
      "aC,aE,aN,aW,ae,ak,at,bh\n",
      "aC,aF,aP,aS,af,ap,as,be\n",
      "aC,aG,aR,aV,aZ,ag,an,ar\n",
      "aC,aH,aM,aY,ah,al,aq,bf\n",
      "aC,aI,aO,aU,ai,aj,aw,bc\n",
      "aC,aJ,aQ,aX,ac,ao,av,bg\n",
      "aC,aK,aL,aT,ad,am,au,bd\n",
      "aD,aE,aM,aU,ad,an,av,be\n",
      "aD,aF,aO,aX,aZ,ae,al,au\n",
      "aD,aG,aQ,aT,af,aj,at,bf\n",
      "aD,aH,aL,aW,ag,ao,as,bc\n",
      "aD,aI,aN,aS,ah,am,ar,bg\n",
      "aD,aJ,aP,aV,ai,ak,aq,bd\n",
      "aD,aK,aR,aY,ac,ap,aw,bh\n",
      "aE,aF,aG,aH,aI,aJ,aK,ab\n",
      "aE,aL,aS,aZ,ac,aj,aq,ax\n",
      "aE,aQ,aV,ah,ap,au,az,bc\n",
      "aE,aR,aX,ai,am,as,ay,bf\n",
      "aF,aL,aY,ai,an,at,az,bg\n",
      "aF,aM,aT,ac,ak,ar,ay,bc\n",
      "aF,aN,aV,ad,ao,aw,ax,bf\n",
      "aG,aN,aU,ac,al,as,az,bd\n",
      "aG,aO,aW,ad,ap,aq,ay,bg\n",
      "aG,aP,aY,ae,am,av,ax,bc\n",
      "aH,aP,aX,ad,aj,ar,az,bh\n",
      "aH,aQ,aS,ae,an,aw,ay,bd\n",
      "aH,aR,aU,af,ak,au,ax,bg\n",
      "aI,aL,aV,af,al,av,ay,bh\n",
      "aI,aM,aX,ag,ap,at,ax,bd\n",
      "aI,aR,aT,ae,ao,aq,az,be\n",
      "aJ,aM,aW,aZ,af,am,aw,az\n",
      "aJ,aN,aY,ag,aj,au,ay,be\n",
      "aJ,aO,aT,ah,an,as,ax,bh\n",
      "aK,aO,aS,ag,ak,av,az,bf\n",
      "aK,aP,aU,aZ,ah,ao,at,ay\n",
      "aK,aQ,aW,ai,al,ar,ax,be\n",
      "aL,aM,aN,aO,aP,aQ,aR,ab\n",
      "aS,aT,aU,aV,aW,aX,aY,ab\n",
      "aZ,ab,bc,bd,be,bf,bg,bh\n",
      "ab,ac,ad,ae,af,ag,ah,ai\n",
      "ab,aj,ak,al,am,an,ao,ap\n",
      "ab,aq,ar,as,at,au,av,aw\n",
      "Validating each two lines have 1 point in common: True\n"
     ]
    }
   ],
   "source": [
    "def get_P2_lines():\n",
    "    lines = set()\n",
    "    P2, l2p, p2l = get_P2_points()\n",
    "    for x, y in itertools.product(P2, P2):\n",
    "        s = span(x, y)\n",
    "        \n",
    "        # linear dependent\n",
    "        if (0,0,0) in s:\n",
    "            continue\n",
    "        \n",
    "        lines.add(s)\n",
    "        \n",
    "    return lines\n",
    "\n",
    "L = get_P2_lines()\n",
    "\n",
    "print \"Number of lines {}\".format(len(L))\n",
    "\n",
    "print \"The lines in P2(F):\"\n",
    "\n",
    "L_as_letters = sorted([\",\".join(sorted([p2l[p] for p in line])) for line in L])\n",
    "\n",
    "for line in L_as_letters:\n",
    "    print line\n",
    "    \n",
    "print \"Validating each two lines have 1 point in common: {}\".format(validate(L))\n",
    "    "
   ]
  },
  {
   "cell_type": "code",
   "execution_count": null,
   "metadata": {},
   "outputs": [],
   "source": []
  },
  {
   "cell_type": "code",
   "execution_count": null,
   "metadata": {
    "collapsed": true
   },
   "outputs": [],
   "source": []
  },
  {
   "cell_type": "code",
   "execution_count": null,
   "metadata": {
    "collapsed": true
   },
   "outputs": [],
   "source": []
  }
 ],
 "metadata": {
  "kernelspec": {
   "display_name": "Python 2",
   "language": "python",
   "name": "python2"
  },
  "language_info": {
   "codemirror_mode": {
    "name": "ipython",
    "version": 2
   },
   "file_extension": ".py",
   "mimetype": "text/x-python",
   "name": "python",
   "nbconvert_exporter": "python",
   "pygments_lexer": "ipython2",
   "version": "2.7.14"
  }
 },
 "nbformat": 4,
 "nbformat_minor": 2
}
